{
 "cells": [
  {
   "cell_type": "code",
   "execution_count": 158,
   "outputs": [],
   "source": [
    "from enum import Enum\n",
    "\n",
    "\n",
    "class TipoDocumeto(Enum):\n",
    "    CEDULA = \"cedula\""
   ],
   "metadata": {
    "collapsed": false,
    "ExecuteTime": {
     "end_time": "2023-07-16T02:47:24.589155500Z",
     "start_time": "2023-07-16T02:47:24.568739600Z"
    }
   }
  },
  {
   "cell_type": "code",
   "execution_count": 159,
   "outputs": [],
   "source": [
    "from enum import Enum\n",
    "\n",
    "\n",
    "class Genero(Enum):\n",
    "    MASCULINO = \"M\"\n",
    "    FEMENINO = \"F\""
   ],
   "metadata": {
    "collapsed": false,
    "ExecuteTime": {
     "end_time": "2023-07-16T02:47:24.590679800Z",
     "start_time": "2023-07-16T02:47:24.574874800Z"
    }
   }
  },
  {
   "cell_type": "code",
   "execution_count": 160,
   "outputs": [],
   "source": [
    "from enum import Enum\n",
    "\n",
    "\n",
    "class Perfil(Enum):\n",
    "    NINGUNO = None\n",
    "    CONSERVADOR = \"conservador\"\n",
    "    MODERADO = \"moderado\"\n",
    "    ARRIESGADO = \"arriesgado\""
   ],
   "metadata": {
    "collapsed": false,
    "ExecuteTime": {
     "end_time": "2023-07-16T02:47:24.604943100Z",
     "start_time": "2023-07-16T02:47:24.589155500Z"
    }
   }
  },
  {
   "cell_type": "code",
   "execution_count": 161,
   "outputs": [],
   "source": [
    "class Cliente:\n",
    "    smlv: int = 1000000\n",
    "    edad_de_retiro = 70\n",
    "\n",
    "    def __init__(\n",
    "            self,\n",
    "            id: TipoDocumeto,\n",
    "            nombre: str,\n",
    "            ingreso_mensual: int,\n",
    "            edad: int,\n",
    "            genero: Genero,\n",
    "            saldo_inicial: int = 0\n",
    "    ):\n",
    "        self.id = id\n",
    "        self.nombre = nombre\n",
    "        self.edad = edad\n",
    "        self.genero = genero\n",
    "        self.validar_edad(edad)\n",
    "        self.ingreso_mensual = ingreso_mensual\n",
    "        self.saldo_inicial = saldo_inicial\n",
    "        self.perfil = self.perfilar()\n",
    "\n",
    "    def perfilar(self):\n",
    "        distancia_edad = self.edad_de_retiro - self.edad\n",
    "        numero_smlv = self.ingreso_mensual / self.smlv\n",
    "        if numero_smlv < 3 or numero_smlv > 10 or distancia_edad > 20:\n",
    "            return Perfil.ARRIESGADO\n",
    "        elif 3 < numero_smlv < 10 or 10 > distancia_edad < 20:\n",
    "            return Perfil.MODERADO\n",
    "        elif distancia_edad < 10:\n",
    "            return Perfil.CONSERVADOR\n",
    "\n",
    "    @staticmethod\n",
    "    def validar_edad(edad):\n",
    "        if edad < 18:\n",
    "            raise ValueError(\"Error: La edad debe ser mayor o igual a 18 años\")\n"
   ],
   "metadata": {
    "collapsed": false,
    "ExecuteTime": {
     "end_time": "2023-07-16T02:47:24.604943100Z",
     "start_time": "2023-07-16T02:47:24.590679800Z"
    }
   }
  },
  {
   "cell_type": "code",
   "execution_count": 162,
   "outputs": [
    {
     "name": "stdout",
     "output_type": "stream",
     "text": [
      "{'id': <TipoDocumeto.CEDULA: 'cedula'>, 'nombre': 'Jaime Cabrera', 'edad': 18, 'genero': <Genero.MASCULINO: 'M'>, 'ingreso_mensual': 1000000, 'saldo_inicial': 0, 'perfil': <Perfil.ARRIESGADO: 'arriesgado'>}\n"
     ]
    }
   ],
   "source": [
    "cliente = Cliente(\n",
    "    id=TipoDocumeto.CEDULA,\n",
    "    nombre=\"Jaime Cabrera\",\n",
    "    ingreso_mensual=1000000,\n",
    "    edad=18,\n",
    "    genero=Genero.MASCULINO\n",
    ")\n",
    "print(cliente.__dict__)  #%%"
   ],
   "metadata": {
    "collapsed": false,
    "ExecuteTime": {
     "end_time": "2023-07-16T02:47:24.605938300Z",
     "start_time": "2023-07-16T02:47:24.596447300Z"
    }
   }
  }
 ],
 "metadata": {
  "kernelspec": {
   "display_name": "Python 3",
   "language": "python",
   "name": "python3"
  },
  "language_info": {
   "codemirror_mode": {
    "name": "ipython",
    "version": 2
   },
   "file_extension": ".py",
   "mimetype": "text/x-python",
   "name": "python",
   "nbconvert_exporter": "python",
   "pygments_lexer": "ipython2",
   "version": "2.7.6"
  }
 },
 "nbformat": 4,
 "nbformat_minor": 0
}
